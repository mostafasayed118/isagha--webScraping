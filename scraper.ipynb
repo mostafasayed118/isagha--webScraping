{
 "cells": [
  {
   "cell_type": "code",
   "execution_count": 5,
   "id": "515b8114",
   "metadata": {},
   "outputs": [],
   "source": [
    "# import necessary libraries\n",
    "from bs4 import BeautifulSoup\n",
    "import requests\n",
    "import csv\n",
    "import pandas as pd"
   ]
  },
  {
   "cell_type": "code",
   "execution_count": 6,
   "id": "83e2ef21",
   "metadata": {},
   "outputs": [],
   "source": [
    "# Define the URL and initialize an empty list to store gold details\n",
    "\n",
    "link = 'https://market.isagha.com/prices/'\n",
    "gold_details = []\n",
    "\n",
    "# Function to fetch and parse gold prices\n",
    "\n",
    "def get_gold_prices():\n",
    "    page = requests.get(link)\n",
    "    soup = BeautifulSoup(page.text, 'html.parser')\n",
    "    golds= soup.find_all('div', {'class': 'col-sm-12'})\n",
    "    \n",
    "    for num,i in enumerate(golds,1):\n",
    "        gauge= i.find('span').text\n",
    "        sell_value = i.find_all('div', {'class': 'value'})[0].text\n",
    "        buy_value = i.find_all('div', {'class': 'value'})[1].text\n",
    "        status_value = i.find_all('div', {'class': 'value'})[2].text\n",
    "        status= i.find_all('div', {'class': 'state'})[2].text\n",
    "        \n",
    "        gold_details.append({\n",
    "            'العيار': gauge,\n",
    "            'سعر البيع': sell_value,\n",
    "            'سعر الشراء': buy_value,\n",
    "            'الحالة': status,\n",
    "            'السعر': status_value\n",
    "        })\n",
    "        \n",
    "        "
   ]
  },
  {
   "cell_type": "code",
   "execution_count": 7,
   "id": "b9dc9dab",
   "metadata": {},
   "outputs": [],
   "source": [
    " # Function to save gold prices to a CSV file\n",
    " \n",
    "def print_gold_prices():\n",
    "    path = r'D:\\python_work\\web_scraping_projects\\isagha\\gold_prices.csv'\n",
    "    header=gold_details[0].keys()\n",
    "    with open(path, 'w', newline='', encoding='utf-8') as f:\n",
    "        writer = csv.DictWriter(f, fieldnames=header)\n",
    "        writer.writeheader()\n",
    "        writer.writerows(gold_details)\n",
    "        \n",
    "    df = pd.read_csv(path)\n",
    "    df.to_excel(r'D:\\python_work\\web_scraping_projects\\isagha\\gold_prices.xlsx', index=False)\n",
    "    print('تم حفظ البيانات بنجاح')"
   ]
  },
  {
   "cell_type": "code",
   "execution_count": 8,
   "id": "92c9c867",
   "metadata": {},
   "outputs": [
    {
     "name": "stdout",
     "output_type": "stream",
     "text": [
      "تم حفظ البيانات بنجاح\n"
     ]
    }
   ],
   "source": [
    "# Main execution block\n",
    "\n",
    "get_gold_prices()\n",
    "if gold_details:\n",
    "\tprint_gold_prices()\n",
    "else:\n",
    "\tprint(\"⚠️ لم يتم استخراج أي بيانات من الموقع. تحقق من الرابط أو من بنية الصفحة.\")"
   ]
  }
 ],
 "metadata": {
  "kernelspec": {
   "display_name": "base",
   "language": "python",
   "name": "python3"
  },
  "language_info": {
   "codemirror_mode": {
    "name": "ipython",
    "version": 3
   },
   "file_extension": ".py",
   "mimetype": "text/x-python",
   "name": "python",
   "nbconvert_exporter": "python",
   "pygments_lexer": "ipython3",
   "version": "3.13.5"
  }
 },
 "nbformat": 4,
 "nbformat_minor": 5
}
